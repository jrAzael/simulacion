{
 "cells": [
  {
   "cell_type": "markdown",
   "id": "ef0e0acd-0978-4713-b62c-34337023eb51",
   "metadata": {},
   "source": [
    "# Introduccion a Pandas\n",
    "[Pandas](https://pandas.pydata.org/about/index.html) es una biblioteca que proporciona estructuras de adatos y herramientas de analisis de datos de alato remdimiento y faciles de usar.\n",
    "* La estructura de datos principal es el DataFrame, que puede conciderarse como una tabla 2D en memoria (como una hoja de calculo, con nombres de columna y etiquetas de fila).\n",
    "* Muchas funciones disponibles en excel, estan disponibles mediante programación como crear tablas dinamicas, calcular columnas basadas en otras columnas , trazar graficós.\n",
    "* Proporciona un alto rendimiento para manipular (unir, dividir, modificar, etc...)grandes conjuntos de datos ."
   ]
  },
  {
   "cell_type": "markdown",
   "id": "afe68ebf-62c4-4116-b1f8-bb23b76d83c0",
   "metadata": {},
   "source": [
    "## Import"
   ]
  },
  {
   "cell_type": "code",
   "execution_count": 1,
   "id": "804df40a-9d53-40de-8ea3-1051528096fe",
   "metadata": {},
   "outputs": [],
   "source": [
    "import pandas as pd"
   ]
  },
  {
   "cell_type": "markdown",
   "id": "2730a41d-c5a5-4e30-9214-ba2575ac81da",
   "metadata": {},
   "source": [
    "### Estructras de datos de Pandas\n",
    "La biblioteca de Pandas, de manera genérica, contiene las siguientes estructuras de datos:\n",
    "\n",
    "* **Series**: Array de una dimensión\n",
    "* **DataFrame**: Corresponde a una tabla de 2 dimensiones\n",
    "* **Panel**: Es similar a un diccionario de DataFrame´s"
   ]
  },
  {
   "cell_type": "markdown",
   "id": "0a955572-8d30-497d-bb0c-eadcd33a3e94",
   "metadata": {},
   "source": [
    "### Creacion del Objeto Series."
   ]
  },
  {
   "cell_type": "code",
   "execution_count": 2,
   "id": "0c5f671f-c927-4517-869d-b0b8c99d294f",
   "metadata": {},
   "outputs": [
    {
     "ename": "TypeError",
     "evalue": "Cannot convert numpy.ndarray to numpy.ndarray",
     "output_type": "error",
     "traceback": [
      "\u001b[0;31m---------------------------------------------------------------------------\u001b[0m",
      "\u001b[0;31mTypeError\u001b[0m                                 Traceback (most recent call last)",
      "Cell \u001b[0;32mIn[2], line 1\u001b[0m\n\u001b[0;32m----> 1\u001b[0m s \u001b[38;5;241m=\u001b[39m \u001b[43mpd\u001b[49m\u001b[38;5;241;43m.\u001b[39;49m\u001b[43mSeries\u001b[49m\u001b[43m(\u001b[49m\u001b[43m[\u001b[49m\u001b[38;5;241;43m2\u001b[39;49m\u001b[43m,\u001b[49m\u001b[43m \u001b[49m\u001b[38;5;241;43m4\u001b[39;49m\u001b[43m,\u001b[49m\u001b[43m \u001b[49m\u001b[38;5;241;43m6\u001b[39;49m\u001b[43m,\u001b[49m\u001b[43m \u001b[49m\u001b[38;5;241;43m8\u001b[39;49m\u001b[43m,\u001b[49m\u001b[43m \u001b[49m\u001b[38;5;241;43m10\u001b[39;49m\u001b[43m]\u001b[49m\u001b[43m)\u001b[49m\n\u001b[1;32m      2\u001b[0m \u001b[38;5;28mprint\u001b[39m(s)\n",
      "File \u001b[0;32m~/anaconda3/envs/Simulacion/lib/python3.9/site-packages/pandas/core/series.py:584\u001b[0m, in \u001b[0;36mSeries.__init__\u001b[0;34m(self, data, index, dtype, name, copy, fastpath)\u001b[0m\n\u001b[1;32m    582\u001b[0m         data \u001b[38;5;241m=\u001b[39m data\u001b[38;5;241m.\u001b[39mcopy()\n\u001b[1;32m    583\u001b[0m \u001b[38;5;28;01melse\u001b[39;00m:\n\u001b[0;32m--> 584\u001b[0m     data \u001b[38;5;241m=\u001b[39m \u001b[43msanitize_array\u001b[49m\u001b[43m(\u001b[49m\u001b[43mdata\u001b[49m\u001b[43m,\u001b[49m\u001b[43m \u001b[49m\u001b[43mindex\u001b[49m\u001b[43m,\u001b[49m\u001b[43m \u001b[49m\u001b[43mdtype\u001b[49m\u001b[43m,\u001b[49m\u001b[43m \u001b[49m\u001b[43mcopy\u001b[49m\u001b[43m)\u001b[49m\n\u001b[1;32m    586\u001b[0m     manager \u001b[38;5;241m=\u001b[39m _get_option(\u001b[38;5;124m\"\u001b[39m\u001b[38;5;124mmode.data_manager\u001b[39m\u001b[38;5;124m\"\u001b[39m, silent\u001b[38;5;241m=\u001b[39m\u001b[38;5;28;01mTrue\u001b[39;00m)\n\u001b[1;32m    587\u001b[0m     \u001b[38;5;28;01mif\u001b[39;00m manager \u001b[38;5;241m==\u001b[39m \u001b[38;5;124m\"\u001b[39m\u001b[38;5;124mblock\u001b[39m\u001b[38;5;124m\"\u001b[39m:\n",
      "File \u001b[0;32m~/anaconda3/envs/Simulacion/lib/python3.9/site-packages/pandas/core/construction.py:654\u001b[0m, in \u001b[0;36msanitize_array\u001b[0;34m(data, index, dtype, copy, allow_2d)\u001b[0m\n\u001b[1;32m    651\u001b[0m     subarr \u001b[38;5;241m=\u001b[39m _try_cast(data, dtype, copy)\n\u001b[1;32m    653\u001b[0m \u001b[38;5;28;01melse\u001b[39;00m:\n\u001b[0;32m--> 654\u001b[0m     subarr \u001b[38;5;241m=\u001b[39m \u001b[43mmaybe_convert_platform\u001b[49m\u001b[43m(\u001b[49m\u001b[43mdata\u001b[49m\u001b[43m)\u001b[49m\n\u001b[1;32m    655\u001b[0m     \u001b[38;5;28;01mif\u001b[39;00m subarr\u001b[38;5;241m.\u001b[39mdtype \u001b[38;5;241m==\u001b[39m \u001b[38;5;28mobject\u001b[39m:\n\u001b[1;32m    656\u001b[0m         subarr \u001b[38;5;241m=\u001b[39m cast(np\u001b[38;5;241m.\u001b[39mndarray, subarr)\n",
      "File \u001b[0;32m~/anaconda3/envs/Simulacion/lib/python3.9/site-packages/pandas/core/dtypes/cast.py:139\u001b[0m, in \u001b[0;36mmaybe_convert_platform\u001b[0;34m(values)\u001b[0m\n\u001b[1;32m    137\u001b[0m \u001b[38;5;28;01mif\u001b[39;00m arr\u001b[38;5;241m.\u001b[39mdtype \u001b[38;5;241m==\u001b[39m _dtype_obj:\n\u001b[1;32m    138\u001b[0m     arr \u001b[38;5;241m=\u001b[39m cast(np\u001b[38;5;241m.\u001b[39mndarray, arr)\n\u001b[0;32m--> 139\u001b[0m     arr \u001b[38;5;241m=\u001b[39m \u001b[43mlib\u001b[49m\u001b[38;5;241;43m.\u001b[39;49m\u001b[43mmaybe_convert_objects\u001b[49m\u001b[43m(\u001b[49m\u001b[43marr\u001b[49m\u001b[43m)\u001b[49m\n\u001b[1;32m    141\u001b[0m \u001b[38;5;28;01mreturn\u001b[39;00m arr\n",
      "File \u001b[0;32mlib.pyx:2538\u001b[0m, in \u001b[0;36mpandas._libs.lib.maybe_convert_objects\u001b[0;34m()\u001b[0m\n",
      "\u001b[0;31mTypeError\u001b[0m: Cannot convert numpy.ndarray to numpy.ndarray"
     ]
    }
   ],
   "source": [
    "s = pd.Series([2, 4, 6, 8, 10])\n",
    "print(s)"
   ]
  },
  {
   "cell_type": "code",
   "execution_count": null,
   "id": "d85d3609-8ae6-44ed-abf3-4e4f9d84a6ea",
   "metadata": {},
   "outputs": [],
   "source": [
    "# Creacion de un objeto series inicializado con un diccionario de python.\n",
    "Altura = {\"Gabo\": 175,\"Lucero\":160,\"Braulio\":180,\"Jess\":161}\n",
    "s = pd.Series(Altura)\n",
    "print(s)"
   ]
  },
  {
   "cell_type": "code",
   "execution_count": null,
   "id": "80543661-97a5-47e5-b824-a748f1215eb4",
   "metadata": {},
   "outputs": [],
   "source": [
    "# Crear un objeto series e incializarlo con algunos de los elementos de un diccionario de Python.\n",
    "Altura = {\"Gabo\": 175,\"Lucero\":160,\"Braulio\":180,\"Jess\":161}\n",
    "s = pd.Series(Altura, index = [\"Braulio\", \"Gabo\"])\n",
    "print(s)"
   ]
  },
  {
   "cell_type": "code",
   "execution_count": null,
   "id": "47043e8a-b1c5-4466-a025-6243cb24602e",
   "metadata": {},
   "outputs": [],
   "source": [
    "# Crear un objeto series e incializarlo con un escalar\n",
    "s = pd.Series(34, [\"Test1\", \"Test2\", \"Test3\"])\n",
    "print(s)"
   ]
  },
  {
   "cell_type": "markdown",
   "id": "a29faabb-9b16-4878-937c-4c985205a3e6",
   "metadata": {},
   "source": [
    "## Acceso a los elementos de un objeto Series.\n",
    "Cada elemento en un obejto Series, tiene un identificador único que se denomina **index label**"
   ]
  },
  {
   "cell_type": "code",
   "execution_count": null,
   "id": "7c3118e3-0b65-4bbc-825c-6e680e0efaab",
   "metadata": {},
   "outputs": [],
   "source": [
    "# Crear un objeto Series.\n",
    "s = pd.Series([2,4,6,8], index = [\"Num1\", \"Num2\", \"Num3\", \"Num4\"])\n",
    "print(s)"
   ]
  },
  {
   "cell_type": "code",
   "execution_count": null,
   "id": "1f1c9a0f-b4e7-4d89-8b78-67d0c9191464",
   "metadata": {},
   "outputs": [],
   "source": [
    "# Acceder al tercer elemento del onbjeto\n",
    "s[\"Num3\"]"
   ]
  },
  {
   "cell_type": "code",
   "execution_count": null,
   "id": "b9914f8a-7cf0-40e9-813a-fd1d5ee2da39",
   "metadata": {},
   "outputs": [],
   "source": [
    "# Acceder al tercer elemento del onbjeto por posicion.\n",
    "s[2]"
   ]
  },
  {
   "cell_type": "code",
   "execution_count": null,
   "id": "f9866f7b-72aa-49e4-8466-7085226e930f",
   "metadata": {},
   "outputs": [],
   "source": [
    "# Para acceder por posicion es mejor acceder con i.loc ya que es la forma estandar de acceso a los elementos de un objeto Series por atributo.\n",
    "s.loc[\"Num3\"]"
   ]
  },
  {
   "cell_type": "code",
   "execution_count": null,
   "id": "10d3b111-d98c-423f-8b48-ecaf40daad08",
   "metadata": {},
   "outputs": [],
   "source": [
    "# Para acceder por posicion se usa i.loc ya que es la forma estandar para acceder a los elementos de un objeto Series por posicion\n",
    "s.iloc[2]"
   ]
  },
  {
   "cell_type": "code",
   "execution_count": null,
   "id": "493bd29a-0676-4e5d-a3e1-66478ff9dbbf",
   "metadata": {},
   "outputs": [],
   "source": [
    "# Accediendo al segundo y al tercer elemento por posicion.\n",
    "s.iloc[2:4]"
   ]
  },
  {
   "cell_type": "markdown",
   "id": "1609fb15-d745-4129-937e-aa7fc6926ee8",
   "metadata": {},
   "source": [
    "## Operaciones aritmeticas con objetos Series.\n"
   ]
  },
  {
   "cell_type": "code",
   "execution_count": null,
   "id": "5ee82bab-1d06-49ed-9d52-6d8107d5a5c4",
   "metadata": {},
   "outputs": [],
   "source": [
    "# Creacion de un objeto Series.\n",
    "s = pd.Series([2, 4, 6, 8, 10])\n",
    "print(s)"
   ]
  },
  {
   "cell_type": "code",
   "execution_count": null,
   "id": "a644d91f-eb80-4d04-8533-2ee2ff242a04",
   "metadata": {},
   "outputs": [],
   "source": [
    "# Los objetos Series son similares y compatibles con los Arrays de Numpy.\n",
    "import numpy as np\n",
    "# Universal function de numpy para sumar los elementos de un array.\n",
    "np.sum(s)"
   ]
  },
  {
   "cell_type": "code",
   "execution_count": null,
   "id": "c458f8c9-7a39-469d-8b89-0eb85b27c103",
   "metadata": {},
   "outputs": [],
   "source": [
    "# El resto de las operaciones aritmeticas de Numpy sobre Arrays tambien son posibles ,\n",
    "# Nota: para mas informacion revisa la documentacion o a la introduccion de Numpy\n",
    "s * 2"
   ]
  },
  {
   "cell_type": "code",
   "execution_count": null,
   "id": "270aa25c-3246-46ab-a04d-7512e7a9a199",
   "metadata": {},
   "outputs": [],
   "source": [
    "s - 3"
   ]
  },
  {
   "cell_type": "markdown",
   "id": "1f853ecc-a067-42a3-904f-e00331044bd0",
   "metadata": {},
   "source": [
    "## Representacion Grafica de un objeto Series"
   ]
  },
  {
   "cell_type": "code",
   "execution_count": null,
   "id": "06b1f167-557b-438b-8692-073dbfd291c7",
   "metadata": {},
   "outputs": [],
   "source": [
    "Tempt = [4.4, 5.1, 6.1, 6.2, 6.1, 6.1, 5.7, 5.2, 4.7, 4.1, 3.9]\n",
    "s = pd.Series(Tempt, name = \"Temperaturas\")\n",
    "print(s)"
   ]
  },
  {
   "cell_type": "code",
   "execution_count": null,
   "id": "50386822-ace6-43e0-81b1-f8e35369f54c",
   "metadata": {},
   "outputs": [],
   "source": [
    "# Representacion Gráfica \n",
    "%matplotlib inline\n",
    "import matplotlib.pyplot as plt\n",
    "s.plot()\n",
    "plt.show()"
   ]
  },
  {
   "cell_type": "markdown",
   "id": "3d1e2636-6fd9-4a41-9f67-2b197c60617a",
   "metadata": {},
   "source": [
    "## Creacion de un objeto DataFrame "
   ]
  },
  {
   "cell_type": "code",
   "execution_count": null,
   "id": "53494a40-c891-4760-9755-0cd8174cdbf9",
   "metadata": {},
   "outputs": [],
   "source": []
  },
  {
   "cell_type": "code",
   "execution_count": null,
   "id": "10b8bb07-542a-4dbd-b53b-f2c7b18da45a",
   "metadata": {},
   "outputs": [],
   "source": []
  },
  {
   "cell_type": "code",
   "execution_count": null,
   "id": "ceb292c3-1074-4536-8174-bf2df9c282c5",
   "metadata": {},
   "outputs": [],
   "source": [
    "# Creacion de un DataFrame inicializandolo con un diccionario de objeto Series \n",
    "Person = {\n",
    "    \"Peso\": pd.Series([70, 68, 60, 70], [\"Gabo\", \"Lucero\", \"Jess\", \"Braulio\"]),\n",
    "    \"Altura\": pd.Series({\"Gabo\": 175, \"Lucero\": 160, \"Jess\": 161, \"Braulio\": 180}),\n",
    "    \"Mascota\": pd.Series([4, 7,], [\"Gabo\", \"Braulio\"])\n",
    "}\n",
    "\n",
    "df = pd.DataFrame(Person)\n",
    "df"
   ]
  },
  {
   "cell_type": "markdown",
   "id": "9a18ed3e-d843-4eeb-b1b1-3a73a0328965",
   "metadata": {},
   "source": [
    "puede forzarse el dataframe que presenta una columnas determinadas y en un orden determinado.\n"
   ]
  },
  {
   "cell_type": "code",
   "execution_count": null,
   "id": "0fe1506f-7b07-4982-b8a1-8ad44d0b5722",
   "metadata": {},
   "outputs": [],
   "source": [
    "# Creacion de un DataFrame inicializandolo con un diccionario de objeto Series \n",
    "Person = {\n",
    "    \"Peso\": pd.Series([70, 68, 60, 70], [\"Gabo\", \"Lucero\", \"Jess\", \"Braulio\"]),\n",
    "    \"Altura\": pd.Series({\"Gabo\": 175, \"Lucero\": 160, \"Jess\": 161, \"Braulio\": 180}),\n",
    "    \"Mascota\": pd.Series([4, 7,], [\"Gabo\", \"Braulio\"])\n",
    "}\n",
    "df = pd.DataFrame(\n",
    "    Person,\n",
    "    colums = [\"Altura\", \"Peso\"],\n",
    "    index = [\"Gabo\", \"Braulio\", \"Lucero\"]\n",
    ")\n",
    "df"
   ]
  },
  {
   "cell_type": "code",
   "execution_count": null,
   "id": "1f0b4ab6-a928-4a91-af85-26a59df54326",
   "metadata": {},
   "outputs": [],
   "source": [
    "df= pd.DataFrame (\n",
    "    valores,\n",
    "    colums = [\"\"]\n",
    ")"
   ]
  }
 ],
 "metadata": {
  "kernelspec": {
   "display_name": "Python 3 (ipykernel)",
   "language": "python",
   "name": "python3"
  },
  "language_info": {
   "codemirror_mode": {
    "name": "ipython",
    "version": 3
   },
   "file_extension": ".py",
   "mimetype": "text/x-python",
   "name": "python",
   "nbconvert_exporter": "python",
   "pygments_lexer": "ipython3",
   "version": "3.9.19"
  }
 },
 "nbformat": 4,
 "nbformat_minor": 5
}
