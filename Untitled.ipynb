{
 "cells": [
  {
   "cell_type": "markdown",
   "id": "0da063f2-2f00-44e6-918c-d937906b0a22",
   "metadata": {},
   "source": [
    "# Introduccion a Numpy"
   ]
  },
  {
   "cell_type": "markdown",
   "id": "5fd3581b-a802-42b9-b677-36b1258f5a57",
   "metadata": {},
   "source": [
    "Numpy es una biblioteca fundamental para la computacion cientifica de python"
   ]
  },
  {
   "cell_type": "markdown",
   "id": "b31b1c0f-65ee-40b0-abea-fe164e9fe13a",
   "metadata": {},
   "source": [
    "* Proporciona arrays N-dimensionales.\n",
    "* implementa funciones matematicas sofisticadas.\n",
    "* proporciona herramientas para integrar C/C++ y Fortran.\n",
    "* proporciona mecanismos para facilitar la realizacion de tareas relacionadas con algebra lineal o numeros aleatorios."
   ]
  },
  {
   "cell_type": "markdown",
   "id": "a280f3a2-7841-45e5-88ea-a4aca7dbe9d0",
   "metadata": {},
   "source": [
    "## Imports"
   ]
  },
  {
   "cell_type": "code",
   "execution_count": 1,
   "id": "612774a2-7310-4d44-be91-878248937035",
   "metadata": {},
   "outputs": [],
   "source": [
    "import numpy as np"
   ]
  },
  {
   "cell_type": "markdown",
   "id": "b28f8962-665f-42cb-800e-a82e5b71884d",
   "metadata": {},
   "source": [
    "## Arrays"
   ]
  },
  {
   "cell_type": "markdown",
   "id": "0c58d71c-3583-466e-80d8-d25589005dec",
   "metadata": {},
   "source": [
    "Un array es una estructura de datos que consiste en una coleccion de elementos (valores o variables), cada uno identificado por lo menos un\n",
    "indice o clave. Un array se almacena de modo que la posicion de cada elemnto se pueda calcular a partir de su tupla de indice mediante \n",
    "formula matematica. El tipo mas simple de un arrayes un array lineal, tambien llamado unidimencional."
   ]
  },
  {
   "cell_type": "markdown",
   "id": "482ca040-80c6-4a9b-864a-ab16e2b38a5f",
   "metadata": {},
   "source": [
    "En Numpy:\n",
    "\n",
    "* Cada dimension se denomina axis.\n",
    "* el numero de dimensiones se denomina rank.\n",
    "* la lista de dimensiones con su correspondiente longitud se denomina shape.\n",
    "* el numero total de elementos(Multiplicacion de la longitud de las dimensiones) se denomina size."
   ]
  },
  {
   "cell_type": "code",
   "execution_count": 2,
   "id": "de8cbf5a-b484-436c-bb8b-ca39a04b8bc9",
   "metadata": {},
   "outputs": [],
   "source": [
    "# array cuyos valores son todos ceros.\n",
    "a = np.zeros((2,4))"
   ]
  },
  {
   "cell_type": "code",
   "execution_count": 3,
   "id": "ef0ce769-131c-45a3-82e1-c0a3eb3fd003",
   "metadata": {},
   "outputs": [
    {
     "data": {
      "text/plain": [
       "array([[0., 0., 0., 0.],\n",
       "       [0., 0., 0., 0.]])"
      ]
     },
     "execution_count": 3,
     "metadata": {},
     "output_type": "execute_result"
    }
   ],
   "source": [
    "a"
   ]
  },
  {
   "cell_type": "markdown",
   "id": "9f275685-255d-4dbd-97f9-0b0ef6ae5ae4",
   "metadata": {},
   "source": [
    "a es un array:\n",
    "* con dos axis, el primero de longitud de 2 y el segundo de longitud 4.\n",
    "* con un rank iagual a 2\n",
    "* con un shape igual (2,4)\n",
    "* con un size igual a 8."
   ]
  },
  {
   "cell_type": "code",
   "execution_count": 4,
   "id": "92e69ba4-9ab1-498b-8788-f1b1e337cbd8",
   "metadata": {},
   "outputs": [
    {
     "data": {
      "text/plain": [
       "(2, 4)"
      ]
     },
     "execution_count": 4,
     "metadata": {},
     "output_type": "execute_result"
    }
   ],
   "source": [
    "a.shape"
   ]
  },
  {
   "cell_type": "code",
   "execution_count": 5,
   "id": "d1af3046-f7f3-4f38-8c11-91d67c733e7e",
   "metadata": {},
   "outputs": [
    {
     "data": {
      "text/plain": [
       "2"
      ]
     },
     "execution_count": 5,
     "metadata": {},
     "output_type": "execute_result"
    }
   ],
   "source": [
    "a.ndim"
   ]
  },
  {
   "cell_type": "code",
   "execution_count": 6,
   "id": "2beec3ae-5705-4d54-8e42-4df108d4b023",
   "metadata": {},
   "outputs": [
    {
     "data": {
      "text/plain": [
       "8"
      ]
     },
     "execution_count": 6,
     "metadata": {},
     "output_type": "execute_result"
    }
   ],
   "source": [
    "a.size"
   ]
  },
  {
   "cell_type": "code",
   "execution_count": 7,
   "id": "38a46585-5893-4ef5-879f-59e24a51dbfe",
   "metadata": {},
   "outputs": [
    {
     "data": {
      "text/plain": [
       "array([[[0., 0., 0., 0.],\n",
       "        [0., 0., 0., 0.],\n",
       "        [0., 0., 0., 0.]],\n",
       "\n",
       "       [[0., 0., 0., 0.],\n",
       "        [0., 0., 0., 0.],\n",
       "        [0., 0., 0., 0.]]])"
      ]
     },
     "execution_count": 7,
     "metadata": {},
     "output_type": "execute_result"
    }
   ],
   "source": [
    "# array cuyos valores son todos ceros.\n",
    "np.zeros ((2,3,4))"
   ]
  },
  {
   "cell_type": "code",
   "execution_count": 8,
   "id": "ce7e1d47-89d7-43c4-9303-120ce0905b08",
   "metadata": {},
   "outputs": [
    {
     "data": {
      "text/plain": [
       "array([[[1., 1., 1., 1.],\n",
       "        [1., 1., 1., 1.],\n",
       "        [1., 1., 1., 1.]],\n",
       "\n",
       "       [[1., 1., 1., 1.],\n",
       "        [1., 1., 1., 1.],\n",
       "        [1., 1., 1., 1.]]])"
      ]
     },
     "execution_count": 8,
     "metadata": {},
     "output_type": "execute_result"
    }
   ],
   "source": [
    "# array cuyos valores son todos 1\n",
    "np.ones((2,3,4))"
   ]
  },
  {
   "cell_type": "code",
   "execution_count": 11,
   "id": "e9ce630a-617b-4841-bd2b-8d7149c718b5",
   "metadata": {},
   "outputs": [
    {
     "data": {
      "text/plain": [
       "array([[1, 2, 3],\n",
       "       [4, 5, 6]])"
      ]
     },
     "execution_count": 11,
     "metadata": {},
     "output_type": "execute_result"
    }
   ],
   "source": [
    "#inicializacion de un array utilizando un array de python\n",
    "b = np.array([[1,2,3],[4,5,6]])\n",
    "b"
   ]
  },
  {
   "cell_type": "code",
   "execution_count": 14,
   "id": "da4b8b49-a27f-4a22-bfe7-4d92424c6938",
   "metadata": {},
   "outputs": [
    {
     "name": "stdout",
     "output_type": "stream",
     "text": [
      "[0.         0.66666667 1.33333333 2.         2.66666667 3.33333333\n",
      " 4.         4.66666667 5.33333333 6.        ]\n"
     ]
    }
   ],
   "source": [
    "# Creacion del array utilizado una funcion basada en rangos \n",
    "# minimo maximo, numero de elementos del array\n",
    "print(np.linspace(0,6,10))"
   ]
  },
  {
   "cell_type": "code",
   "execution_count": 15,
   "id": "b509157f-d723-4a1d-9796-1deb55c58b6e",
   "metadata": {},
   "outputs": [
    {
     "data": {
      "text/plain": [
       "array([[[0.02112858, 0.46369083, 0.06898844, 0.05227975],\n",
       "        [0.08978508, 0.16775492, 0.71584795, 0.07972457],\n",
       "        [0.32760865, 0.65812429, 0.54106881, 0.37428359]],\n",
       "\n",
       "       [[0.18455548, 0.2730586 , 0.80962596, 0.75077144],\n",
       "        [0.18715266, 0.41458319, 0.58098442, 0.39489477],\n",
       "        [0.76862054, 0.50387607, 0.27592019, 0.28572138]]])"
      ]
     },
     "execution_count": 15,
     "metadata": {},
     "output_type": "execute_result"
    }
   ],
   "source": [
    "# inicializar un array con valores aleatorios\n",
    "np.random.rand(2, 3, 4)"
   ]
  },
  {
   "cell_type": "code",
   "execution_count": 16,
   "id": "8b7d990b-ca2a-40dd-8848-fb7a3cb7445d",
   "metadata": {},
   "outputs": [
    {
     "data": {
      "text/plain": [
       "array([[-0.71158299,  1.31449264, -0.22239942,  0.35952734],\n",
       "       [ 0.93606912,  0.32035506, -2.13897447,  1.20287855]])"
      ]
     },
     "execution_count": 16,
     "metadata": {},
     "output_type": "execute_result"
    }
   ],
   "source": [
    "# inicializar un array con valores aleatorios conforme a una distribucion normal.\n",
    "# randon\n",
    "np.random.randn(2, 4)"
   ]
  },
  {
   "cell_type": "code",
   "execution_count": 17,
   "id": "8dfbd1bd-b2b5-4f63-98f0-f0023f917bbf",
   "metadata": {},
   "outputs": [
    {
     "data": {
      "image/png": "[encoded data removed]",
      "text/plain": [
       "<Figure size 640x480 with 1 Axes>"
      ]
     },
     "metadata": {},
     "output_type": "display_data"
    }
   ],
   "source": [
    "%matplotlib inline\n",
    "import matplotlib.pyplot as plt\n",
    "\n",
    "c = np.random.randn(100000)\n",
    "\n",
    "plt.hist(c, bins=400)\n",
    "\n",
    "plt.show()"
   ]
  },
  {
   "cell_type": "code",
   "execution_count": 18,
   "id": "23e73061-aeee-4099-bf30-2dad935a2e22",
   "metadata": {},
   "outputs": [
    {
     "data": {
      "text/plain": [
       "array([[ 0.,  2.,  4.,  6.,  8.],\n",
       "       [ 1.,  3.,  5.,  7.,  9.],\n",
       "       [ 2.,  4.,  6.,  8., 10.]])"
      ]
     },
     "execution_count": 18,
     "metadata": {},
     "output_type": "execute_result"
    }
   ],
   "source": [
    "# iniciazlizar un array utilizando una funcion personalizada.\n",
    "def func(x, y):\n",
    "    return x + 2 * y\n",
    "\n",
    "np.fromfunction(func, (3, 5))\n"
   ]
  },
  {
   "cell_type": "markdown",
   "id": "f298fec5-1729-4502-b456-647689e2aa0d",
   "metadata": {},
   "source": [
    "## Acceso a los elemnentos de un array \n",
    "### Array unidimensional"
   ]
  },
  {
   "cell_type": "code",
   "execution_count": 28,
   "id": "6a05dc73-7cf5-4215-b46b-bae54df3d103",
   "metadata": {},
   "outputs": [
    {
     "name": "stdout",
     "output_type": "stream",
     "text": [
      "shape (6,)\n",
      "Array_uni [ 1  3  5  7  9 11]\n"
     ]
    }
   ],
   "source": [
    "# creacion de un array unidimensional.\n",
    "array_uni = np.array ([1, 3, 5, 7, 9, 11])\n",
    "print(\"shape\", array_uni.shape)\n",
    "print(\"Array_uni\", array_uni)"
   ]
  },
  {
   "cell_type": "code",
   "execution_count": 20,
   "id": "cfe7fa04-178a-45da-8201-028c74fd9ace",
   "metadata": {},
   "outputs": [
    {
     "data": {
      "text/plain": [
       "9"
      ]
     },
     "execution_count": 20,
     "metadata": {},
     "output_type": "execute_result"
    }
   ],
   "source": [
    "# Accediendo al quinto elemento del Array.\n",
    "array_uni[4]"
   ]
  },
  {
   "cell_type": "code",
   "execution_count": 21,
   "id": "57f172d8-1794-4273-9736-967b9d0e7dc0",
   "metadata": {},
   "outputs": [
    {
     "data": {
      "text/plain": [
       "array([5, 7])"
      ]
     },
     "execution_count": 21,
     "metadata": {},
     "output_type": "execute_result"
    }
   ],
   "source": [
    "# Accediendo al tercer y cuarto elemento del array.\n",
    "array_uni[2:4]"
   ]
  },
  {
   "cell_type": "code",
   "execution_count": 22,
   "id": "d33c5541-2ff3-41e4-8f85-fa9e7e519829",
   "metadata": {},
   "outputs": [
    {
     "data": {
      "text/plain": [
       "array([ 1, 11])"
      ]
     },
     "execution_count": 22,
     "metadata": {},
     "output_type": "execute_result"
    }
   ],
   "source": [
    "# Acceder a los elementos 0, 3, 5 del array.\n",
    "array_uni[0::5]"
   ]
  },
  {
   "cell_type": "markdown",
   "id": "135951db-3135-4cd5-9bea-66e309478457",
   "metadata": {},
   "source": [
    "## Array multidimensional "
   ]
  },
  {
   "cell_type": "code",
   "execution_count": 24,
   "id": "2baf250d-6fea-4c6b-8017-42e0a1113e89",
   "metadata": {},
   "outputs": [
    {
     "name": "stdout",
     "output_type": "stream",
     "text": [
      "shape:  (2, 4)\n",
      "Array_multi: [[1 2 3 4]\n",
      " [5 6 7 8]]\n"
     ]
    }
   ],
   "source": [
    "# creacion de un array multidimensional\n",
    "array_multi = np.array([[1, 2, 3, 4],[5, 6, 7 ,8]])\n",
    "print(\"shape: \", array_multi.shape)\n",
    "print(\"Array_multi:\", array_multi)\n"
   ]
  },
  {
   "cell_type": "code",
   "execution_count": 25,
   "id": "547e5198-c804-4ba5-ae26-6f060d65e441",
   "metadata": {},
   "outputs": [
    {
     "data": {
      "text/plain": [
       "4"
      ]
     },
     "execution_count": 25,
     "metadata": {},
     "output_type": "execute_result"
    }
   ],
   "source": [
    "# Accediendo al cuarto elemento del array\n",
    "array_multi[0,3]"
   ]
  },
  {
   "cell_type": "code",
   "execution_count": 26,
   "id": "65f3f98a-0e98-43b4-8e16-3672d486cd26",
   "metadata": {},
   "outputs": [
    {
     "data": {
      "text/plain": [
       "array([5, 6, 7, 8])"
      ]
     },
     "execution_count": 26,
     "metadata": {},
     "output_type": "execute_result"
    }
   ],
   "source": [
    "# Accediendo a la segunda fila del Array\n",
    "array_multi[1, :]"
   ]
  },
  {
   "cell_type": "code",
   "execution_count": 29,
   "id": "9242b8bc-542c-46c2-9369-a4693b735a63",
   "metadata": {},
   "outputs": [
    {
     "data": {
      "text/plain": [
       "array([3, 7])"
      ]
     },
     "execution_count": 29,
     "metadata": {},
     "output_type": "execute_result"
    }
   ],
   "source": [
    "# Accediendo al tercer elemento de las dos primeras filas del Array\n",
    "array_multi[0:2, 2]"
   ]
  },
  {
   "cell_type": "markdown",
   "id": "516fcfa0-e29e-4830-adfd-595b7a718c9a",
   "metadata": {},
   "source": [
    "## Modificacion de un Array"
   ]
  },
  {
   "cell_type": "code",
   "execution_count": 30,
   "id": "0a9391fd-ef13-4104-a4a1-caca78a984f0",
   "metadata": {},
   "outputs": [
    {
     "name": "stdout",
     "output_type": "stream",
     "text": [
      "shape:  (28,)\n",
      "Array_multi: [ 0  1  2  3  4  5  6  7  8  9 10 11 12 13 14 15 16 17 18 19 20 21 22 23\n",
      " 24 25 26 27]\n"
     ]
    }
   ],
   "source": [
    "#Creacion de un Array unidimensional inicializado con el rango de elemntos que va del 0-27\n",
    "array1 = np.arange(28)\n",
    "print(\"shape: \", array1.shape)\n",
    "print(\"Array_multi:\", array1)"
   ]
  },
  {
   "cell_type": "code",
   "execution_count": 34,
   "id": "58af4d0a-6558-4aeb-a47f-48f18238aef7",
   "metadata": {},
   "outputs": [
    {
     "name": "stdout",
     "output_type": "stream",
     "text": [
      "shape:  (7, 4)\n",
      "Array_multi: \n",
      " [[ 0  1  2  3]\n",
      " [ 4  5  6  7]\n",
      " [ 8  9 10 11]\n",
      " [12 13 14 15]\n",
      " [16 17 18 19]\n",
      " [20 21 22 23]\n",
      " [24 25 26 27]]\n"
     ]
    }
   ],
   "source": [
    "# Cambiar las dimensiones del array y longitudes \n",
    "array1.shape = (7,4)\n",
    "print(\"shape: \", array1.shape)\n",
    "print(\"Array_multi: \\n\", array1)"
   ]
  },
  {
   "cell_type": "code",
   "execution_count": 35,
   "id": "55050e4b-c225-4595-8e5b-015d26f999af",
   "metadata": {},
   "outputs": [
    {
     "name": "stdout",
     "output_type": "stream",
     "text": [
      "shape:  (4, 7)\n",
      "Array_multi: \n",
      " [[ 0  1  2  3  4  5  6]\n",
      " [ 7  8  9 10 11 12 13]\n",
      " [14 15 16 17 18 19 20]\n",
      " [21 22 23 24 25 26 27]]\n"
     ]
    }
   ],
   "source": [
    "# El ejemplo anterior devulve un nuevo array que apunta a los mismos datos \n",
    "# Nota: Las modificaciones en un array, modifican el otro array\n",
    "array2 = array1.reshape(4, 7)\n",
    "print(\"shape: \", array2.shape)\n",
    "print(\"Array_multi: \\n\", array2)"
   ]
  },
  {
   "cell_type": "code",
   "execution_count": 38,
   "id": "c1eeb0b9-b80f-41f4-b2f3-06b1482a93db",
   "metadata": {},
   "outputs": [
    {
     "name": "stdout",
     "output_type": "stream",
     "text": [
      "Array2:\n",
      " [[ 0  1  2 20  4  5  6]\n",
      " [ 7  8  9 10 11 12 13]\n",
      " [14 15 16 17 18 19 20]\n",
      " [21 22 23 24 25 26 27]]\n"
     ]
    }
   ],
   "source": [
    "# Modificacion del array devuelto\n",
    "array2[0,3] = 20\n",
    "print(\"Array2:\\n\", array2)"
   ]
  },
  {
   "cell_type": "code",
   "execution_count": 39,
   "id": "d30387d0-785a-498f-9ffb-ec5562a1964e",
   "metadata": {},
   "outputs": [
    {
     "name": "stdout",
     "output_type": "stream",
     "text": [
      "Array1:\n",
      " [[ 0  1  2 20]\n",
      " [ 4  5  6  7]\n",
      " [ 8  9 10 11]\n",
      " [12 13 14 15]\n",
      " [16 17 18 19]\n",
      " [20 21 22 23]\n",
      " [24 25 26 27]]\n"
     ]
    }
   ],
   "source": [
    "print(\"Array1:\\n\", array1)"
   ]
  },
  {
   "cell_type": "code",
   "execution_count": 40,
   "id": "50851b3e-ce4e-4ca8-8bb3-4756e591543a",
   "metadata": {},
   "outputs": [
    {
     "name": "stdout",
     "output_type": "stream",
     "text": [
      "Array1:\n",
      " [ 0  1  2 20  4  5  6  7  8  9 10 11 12 13 14 15 16 17 18 19 20 21 22 23\n",
      " 24 25 26 27]\n"
     ]
    }
   ],
   "source": [
    "# Devuelve el Array a una sola dimension\n",
    "# Nota el nuevo array apunta a los mismos datos.\n",
    "print(\"Array1:\\n\", array1.ravel())"
   ]
  },
  {
   "cell_type": "markdown",
   "id": "4faa37d8-40ba-460a-9a9f-78d14b7b5351",
   "metadata": {},
   "source": [
    "## Operaciones aritméticas con Arrays"
   ]
  },
  {
   "cell_type": "code",
   "execution_count": 41,
   "id": "ffee00d5-2dd1-4d98-98df-c53e9c0a4176",
   "metadata": {},
   "outputs": [
    {
     "name": "stdout",
     "output_type": "stream",
     "text": [
      "Array1:\n",
      " [ 2  4  6  8 10 12 14 16]\n",
      "Array2:\n",
      " [0 1 2 3 4 5 6 7]\n"
     ]
    }
   ],
   "source": [
    "# creación de dos arrays unidimensionales.\n",
    "array1 = np.arange(2,18,2)\n",
    "array2 = np.arange(8)\n",
    "print(\"Array1:\\n\", array1)\n",
    "print(\"Array2:\\n\", array2)"
   ]
  },
  {
   "cell_type": "code",
   "execution_count": 42,
   "id": "6a910e58-1bf8-4a70-87df-1ed7f59d1522",
   "metadata": {},
   "outputs": [
    {
     "name": "stdout",
     "output_type": "stream",
     "text": [
      "[ 2  5  8 11 14 17 20 23]\n"
     ]
    }
   ],
   "source": [
    "# suma\n",
    "print(array1 +array2)"
   ]
  },
  {
   "cell_type": "code",
   "execution_count": 43,
   "id": "c6c38eca-7c18-4e68-896d-9d226c0c3b04",
   "metadata": {},
   "outputs": [
    {
     "name": "stdout",
     "output_type": "stream",
     "text": [
      "[2 3 4 5 6 7 8 9]\n"
     ]
    }
   ],
   "source": [
    "#resta \n",
    "print(array1 - array2)"
   ]
  },
  {
   "cell_type": "code",
   "execution_count": 44,
   "id": "a8a350af-9a89-456e-8dfb-231589a6bb10",
   "metadata": {},
   "outputs": [
    {
     "name": "stdout",
     "output_type": "stream",
     "text": [
      "[  0   4  12  24  40  60  84 112]\n"
     ]
    }
   ],
   "source": [
    "# multiplicacion\n",
    "# no es una multiplicacion de matrices.\n",
    "print(array1 * array2)"
   ]
  },
  {
   "cell_type": "markdown",
   "id": "24511abb-9d87-4201-9581-bbfdb17cb34e",
   "metadata": {},
   "source": [
    "## Broadcasting\n",
    "Si se aplicacn operaciones aritmeticas sobre arrays que no tinen la misma forma (shape) Numpy aplica una propiedad que se denomina Broadcasting."
   ]
  },
  {
   "cell_type": "code",
   "execution_count": 45,
   "id": "d5cb2e49-4b26-4e5a-8241-dfd833565740",
   "metadata": {},
   "outputs": [
    {
     "name": "stdout",
     "output_type": "stream",
     "text": [
      "shape:  (5,)\n",
      "Array_multi: \n",
      " [0 1 2 3 4]\n",
      "shape:  (1,)\n",
      "Array_multi:  [3]\n"
     ]
    }
   ],
   "source": [
    "# Creacion de dos arrays unidimensionales\n",
    "array1 = np.arange(5)\n",
    "array2 = np.array([3])\n",
    "print(\"shape: \", array1.shape)\n",
    "print(\"Array_multi: \\n\", array1)\n",
    "print(\"shape: \", array2.shape)\n",
    "print(\"Array_multi: \", array2)"
   ]
  },
  {
   "cell_type": "code",
   "execution_count": 46,
   "id": "0134e9d8-dbe2-4a72-8536-f20f6aadec16",
   "metadata": {},
   "outputs": [
    {
     "data": {
      "text/plain": [
       "array([3, 4, 5, 6, 7])"
      ]
     },
     "execution_count": 46,
     "metadata": {},
     "output_type": "execute_result"
    }
   ],
   "source": [
    "# suma de ambos Arrays\n",
    "array1 + array2"
   ]
  },
  {
   "cell_type": "code",
   "execution_count": 47,
   "id": "f3713398-237c-4917-a420-45e02d8955d6",
   "metadata": {},
   "outputs": [
    {
     "name": "stdout",
     "output_type": "stream",
     "text": [
      "shape:  (2, 3)\n",
      "Array_multi: \n",
      " [[0 1 2]\n",
      " [3 4 5]]\n",
      "shape:  (3,)\n",
      "Array_multi:  [ 6 10 14]\n"
     ]
    }
   ],
   "source": [
    "# Creacion de dos arrays multidimensionales y unidimensionales\n",
    "array1 = np.arange(6)\n",
    "array1.shape = (2, 3)\n",
    "array2 = np.arange(6, 18, 4)\n",
    "print(\"shape: \", array1.shape)\n",
    "print(\"Array_multi: \\n\", array1)\n",
    "print(\"shape: \", array2.shape)\n",
    "print(\"Array_multi: \", array2)"
   ]
  },
  {
   "cell_type": "code",
   "execution_count": 49,
   "id": "3cc2966d-27cb-410e-9493-50299b1107e5",
   "metadata": {},
   "outputs": [
    {
     "data": {
      "text/plain": [
       "array([[ 6, 11, 16],\n",
       "       [ 9, 14, 19]])"
      ]
     },
     "execution_count": 49,
     "metadata": {},
     "output_type": "execute_result"
    }
   ],
   "source": [
    "# suma de ambos arrays \n",
    "array1 + array2"
   ]
  },
  {
   "cell_type": "markdown",
   "id": "995b07fb-e4b0-41d4-9033-710acd833abb",
   "metadata": {},
   "source": [
    "## Funciones estadisticas sobre arrays"
   ]
  },
  {
   "cell_type": "code",
   "execution_count": 52,
   "id": "fbce150e-7995-484f-950a-ccc642c4d411",
   "metadata": {},
   "outputs": [
    {
     "name": "stdout",
     "output_type": "stream",
     "text": [
      "Array 1:  [ 1  3  5  7  9 11 13 15 17 19]\n"
     ]
    }
   ],
   "source": [
    "# creacion de un array unidimensional\n",
    "array1 = np.arange(1, 20 , 2)\n",
    "print(\"Array 1: \", array1)\n"
   ]
  },
  {
   "cell_type": "code",
   "execution_count": 53,
   "id": "23c18c13-f4d8-4f3f-9261-0aa8412c5da7",
   "metadata": {},
   "outputs": [
    {
     "data": {
      "text/plain": [
       "10.0"
      ]
     },
     "execution_count": 53,
     "metadata": {},
     "output_type": "execute_result"
    }
   ],
   "source": [
    "# media de los elemnetos del array\n",
    "array1.mean()"
   ]
  },
  {
   "cell_type": "code",
   "execution_count": 54,
   "id": "16921164-5e4d-45ac-90e5-7560df6dacbf",
   "metadata": {},
   "outputs": [
    {
     "data": {
      "text/plain": [
       "100"
      ]
     },
     "execution_count": 54,
     "metadata": {},
     "output_type": "execute_result"
    }
   ],
   "source": [
    "# suma de los elementos del array\n",
    "array1.sum()"
   ]
  },
  {
   "cell_type": "markdown",
   "id": "1f2a39e6-238c-4fb3-a2f4-10fca980044c",
   "metadata": {},
   "source": [
    "funciones universales eficientes proporcionadas por Numpy: **ufunc**."
   ]
  },
  {
   "cell_type": "code",
   "execution_count": 55,
   "id": "3f3f7c27-e779-4a93-ae38-a36f70c6a7b0",
   "metadata": {},
   "outputs": [
    {
     "data": {
      "text/plain": [
       "array([  1,   9,  25,  49,  81, 121, 169, 225, 289, 361])"
      ]
     },
     "execution_count": 55,
     "metadata": {},
     "output_type": "execute_result"
    }
   ],
   "source": [
    "# cuadrado de los elementos del array\n",
    "np.square(array1)"
   ]
  },
  {
   "cell_type": "code",
   "execution_count": 56,
   "id": "ec282cda-b98d-498f-b37d-1b4e5cec4594",
   "metadata": {},
   "outputs": [
    {
     "data": {
      "text/plain": [
       "array([1.        , 1.73205081, 2.23606798, 2.64575131, 3.        ,\n",
       "       3.31662479, 3.60555128, 3.87298335, 4.12310563, 4.35889894])"
      ]
     },
     "execution_count": 56,
     "metadata": {},
     "output_type": "execute_result"
    }
   ],
   "source": [
    "# Raiz cuadada de los elementos del array\n",
    "np.sqrt(array1)"
   ]
  },
  {
   "cell_type": "code",
   "execution_count": 57,
   "id": "34ff88f2-4a65-4c9e-a0a1-3ab7768e201e",
   "metadata": {},
   "outputs": [
    {
     "data": {
      "text/plain": [
       "array([2.71828183e+00, 2.00855369e+01, 1.48413159e+02, 1.09663316e+03,\n",
       "       8.10308393e+03, 5.98741417e+04, 4.42413392e+05, 3.26901737e+06,\n",
       "       2.41549528e+07, 1.78482301e+08])"
      ]
     },
     "execution_count": 57,
     "metadata": {},
     "output_type": "execute_result"
    }
   ],
   "source": [
    "# Exponencial de los elementos del array.\n",
    "np.exp(array1)"
   ]
  },
  {
   "cell_type": "code",
   "execution_count": 58,
   "id": "f49d3a2e-d70a-4a01-af0a-7e152e301933",
   "metadata": {},
   "outputs": [
    {
     "data": {
      "text/plain": [
       "array([0.        , 1.09861229, 1.60943791, 1.94591015, 2.19722458,\n",
       "       2.39789527, 2.56494936, 2.7080502 , 2.83321334, 2.94443898])"
      ]
     },
     "execution_count": 58,
     "metadata": {},
     "output_type": "execute_result"
    }
   ],
   "source": [
    "# logaritmo natural de los elementos del array\n",
    "np.log(array1)"
   ]
  },
  {
   "cell_type": "code",
   "execution_count": null,
   "id": "a619b5d3-31a4-4799-90d6-50874ef95657",
   "metadata": {},
   "outputs": [],
   "source": []
  }
 ],
 "metadata": {
  "kernelspec": {
   "display_name": "Python 3 (ipykernel)",
   "language": "python",
   "name": "python3"
  },
  "language_info": {
   "codemirror_mode": {
    "name": "ipython",
    "version": 3
   },
   "file_extension": ".py",
   "mimetype": "text/x-python",
   "name": "python",
   "nbconvert_exporter": "python",
   "pygments_lexer": "ipython3",
   "version": "3.9.19"
  }
 },
 "nbformat": 4,
 "nbformat_minor": 5
}
